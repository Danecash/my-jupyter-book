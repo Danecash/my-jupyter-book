{
 "cells": [
  {
   "cell_type": "markdown",
   "id": "17e58b43-5d03-4ec5-bbfc-d37c2de57b47",
   "metadata": {},
   "source": [
    "Name: Dane Casey C. Casino\n",
    "\n",
    "Section: DS4A\n"
   ]
  },
  {
   "cell_type": "markdown",
   "id": "498596b2-023f-44d0-ba3b-2a88e0de7e99",
   "metadata": {},
   "source": [
    "# Reaction Paper: \"Machine Learning: Living in the Age of AI | A WIRED Film\"\n",
    "\n",
    "**Instructions:** Create a reaction paper (1 page) about the YouTube video titled \"Machine Learning: Living in the Age of AI | A WIRED Film\", submit this in PDF format.\n",
    "\n",
    "Use these as guide questions for your paper:\n",
    "\n",
    "## Guide Questions\n",
    "\n",
    "1. **What are some of the most significant advancements in AI that the video highlights as having a positive impact on society?**\n",
    "   \n",
    "2. **How does the video envision the future of AI, and what challenges and opportunities lie ahead?**\n",
    "   \n",
    "3. **How can we strike a balance between harnessing the benefits of AI and addressing its potential drawbacks?**"
   ]
  },
  {
   "cell_type": "markdown",
   "id": "d7ecfe3e",
   "metadata": {},
   "source": [
    "<p align=\"center\">\n",
    "    <img src=\"1.jpg\" alt=\"reaction\" width=\"300\" style=\"margin-right: 80px;\">\n",
    "    <img src=\"2.jpg\" alt=\"reaction2\" width=\"300\" style=\"margin-right: 80px;\">\n",
    "    <img src=\"3.jpg\" alt=\"reaction3\" width=\"300\">\n",
    "</p>\n"
   ]
  },
  {
   "cell_type": "markdown",
   "id": "d1e27587-2479-4148-985f-2183dd4ee191",
   "metadata": {},
   "source": [
    "The WIRED film *Machine Learning: Living in the Age of AI* shows that artificial intelligence is no longer just science fiction; it is part of our everyday lives. The film highlights AI’s ability to improve lives while raising serious ethical questions, leaving viewers both hopeful and cautious.\n",
    "\n",
    "The documentary demonstrates how AI improves human ability and accessibility. For example, a blind man uses AI apps to recognize people and products, which gives him more independence. Self-driving cars could help seniors regain their mobility, and AI in medicine can diagnose diseases like skin cancer or improve cancer treatment. The film also emphasizes accessibility; open-source tools and DIY projects show that AI is available to students, farmers, and hobbyists—not just tech giants.\n",
    "\n",
    "Looking ahead, AI holds the promise of longer, healthier lives and relief from repetitive work. However, it also threatens jobs and raises ethical concerns. Deepfake technology illustrates how AI can spread dangerous misinformation, creating issues of trust and security.\n",
    "\n",
    "The film argues that the future of AI depends on finding a balance between using its benefits and controlling its risks. This involves educating people about AI, establishing clear rules for privacy and ethics, and keeping humans at the center of technology. AI should enhance human creativity, empathy, and connection—not replace them.\n",
    "\n",
    "In conclusion, the film presents AI as a revolution like the industrial age. It provides solutions to disease, disability, and global challenges, but it also poses risks of disruption and deception. Our choices today regarding education, regulation, and ethical use will determine whether AI strengthens or weakens our humanity."
   ]
  }
 ],
 "metadata": {
  "kernelspec": {
   "display_name": "venv",
   "language": "python",
   "name": "python3"
  },
  "language_info": {
   "codemirror_mode": {
    "name": "ipython",
    "version": 3
   },
   "file_extension": ".py",
   "mimetype": "text/x-python",
   "name": "python",
   "nbconvert_exporter": "python",
   "pygments_lexer": "ipython3",
   "version": "3.13.2"
  }
 },
 "nbformat": 4,
 "nbformat_minor": 5
}
