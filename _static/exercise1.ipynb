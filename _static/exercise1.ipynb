{
 "cells": [
  {
   "cell_type": "markdown",
   "id": "83f4150d",
   "metadata": {},
   "source": [
    "Name: Dane Casey C. Casino\n",
    "\n",
    "Section: DS4A"
   ]
  },
  {
   "cell_type": "markdown",
   "id": "74de17ab",
   "metadata": {},
   "source": [
    "# Reaction Paper: \"Machine Learning: Living in the Age of AI | A WIRED Film\"\n",
    "\n",
    "**Instructions:** Create a reaction paper (1 page) about the YouTube video titled \"Machine Learning: Living in the Age of AI | A WIRED Film\", submit this in PDF format.\n",
    "\n",
    "Use these as guide questions for your paper:\n",
    "\n",
    "## Guide Questions\n",
    "\n",
    "1. **What are some of the most significant advancements in AI that the video highlights as having a positive impact on society?**\n",
    "   \n",
    "2. **How does the video envision the future of AI, and what challenges and opportunities lie ahead?**\n",
    "   \n",
    "3. **How can we strike a balance between harnessing the benefits of AI and addressing its potential drawbacks?**"
   ]
  },
  {
   "cell_type": "markdown",
   "id": "e6bd1211",
   "metadata": {},
   "source": [
    "![image](new.png)"
   ]
  },
  {
   "cell_type": "markdown",
   "id": "33686128",
   "metadata": {},
   "source": [
    "The WIRED film *Machine Learning: Living in the Age of AI* shows that artificial intelligence is no longer just science fiction; it is part of our everyday lives. The film highlights AI’s ability to improve lives while raising serious ethical questions, leaving viewers both hopeful and cautious.\n",
    "\n",
    "The documentary demonstrates how AI improves human ability and accessibility. For example, a blind man uses AI apps to recognize people and products, which gives him more independence. Self-driving cars could help seniors regain their mobility, and AI in medicine can diagnose diseases like skin cancer or improve cancer treatment. The film also emphasizes accessibility; open-source tools and DIY projects show that AI is available to students, farmers, and hobbyists—not just tech giants.\n",
    "\n",
    "Looking ahead, AI holds the promise of longer, healthier lives and relief from repetitive work. However, it also threatens jobs and raises ethical concerns. Deepfake technology illustrates how AI can spread dangerous misinformation, creating issues of trust and security.\n",
    "\n",
    "The film argues that the future of AI depends on finding a balance between using its benefits and controlling its risks. This involves educating people about AI, establishing clear rules for privacy and ethics, and keeping humans at the center of technology. AI should enhance human creativity, empathy, and connection—not replace them.\n",
    "\n",
    "In conclusion, the film presents AI as a revolution like the industrial age. It provides solutions to disease, disability, and global challenges, but it also poses risks of disruption and deception. Our choices today regarding education, regulation, and ethical use will determine whether AI strengthens or weakens our humanity."
   ]
  }
 ],
 "metadata": {
  "language_info": {
   "name": "python"
  }
 },
 "nbformat": 4,
 "nbformat_minor": 5
}
