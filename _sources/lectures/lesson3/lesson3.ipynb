{
 "cells": [
  {
   "cell_type": "markdown",
   "id": "c19e6633",
   "metadata": {},
   "source": [
    "## PyTorch Tensor Objects Attributes and Methods\n",
    "\n",
    "This will cover the following operations of a tensor object:\n",
    "\n",
    "- Converting NumPy arrays to PyTorch tensors\n",
    "- Creating tensors from scratch\n",
    "- Indexing and slicing\n",
    "- Reshaping tensors (tensor views)\n",
    "- Tensor arithmetic and basic operations\n",
    "- Dot products\n",
    "- Matrix multiplication\n",
    "- Additional, more advanced operations\n",
    "\n",
    "![Tensor Operations](tensor.png)\n",
    "\n",
    "In PyTorch, we use tensors to encode the inputs and outputs of a model, as well as the model's parameters. Tensors are similar to NumPy's ndarrays, except that tensors can run on GPUs or other specialized hardware to accelerate computing.\n",
    "\n",
    "### 1. Converting NumPy arrays to PyTorch tensors\n",
    "\n",
    "A `torch.Tensor` is a multi-dimensional matrix containing elements of a single data type. Calculations between tensors can only happen if the tensors share the same dtype. In some cases tensors are used as a replacement for NumPy to use the power of GPUs (more on this later). Let's try to initialize a NumPy array first!"
   ]
  },
  {
   "cell_type": "code",
   "execution_count": 1,
   "id": "846d9833",
   "metadata": {},
   "outputs": [],
   "source": [
    "import torch\n",
    "import numpy as np\n",
    "import sys"
   ]
  },
  {
   "cell_type": "code",
   "execution_count": 2,
   "id": "361b5f7d",
   "metadata": {},
   "outputs": [
    {
     "name": "stdout",
     "output_type": "stream",
     "text": [
      "[1. 2. 3. 4. 5.]\n",
      "float64\n",
      "<class 'numpy.ndarray'>\n"
     ]
    }
   ],
   "source": [
    "arr = np.array([1,2,3,4,5]).astype('float64')\n",
    "print(arr)\n",
    "print(arr.dtype)\n",
    "print(type(arr))"
   ]
  },
  {
   "cell_type": "code",
   "execution_count": 3,
   "id": "ab7ca64f",
   "metadata": {},
   "outputs": [
    {
     "name": "stdout",
     "output_type": "stream",
     "text": [
      "tensor([1., 2., 3., 4., 5.], dtype=torch.float64)\n"
     ]
    }
   ],
   "source": [
    "x = torch.from_numpy(arr)\n",
    "# Equivalent to x = torch.as_tensor(arr)\n",
    "print(x)"
   ]
  },
  {
   "cell_type": "code",
   "execution_count": 4,
   "id": "f52b168e",
   "metadata": {},
   "outputs": [
    {
     "name": "stdout",
     "output_type": "stream",
     "text": [
      "torch.float64\n"
     ]
    }
   ],
   "source": [
    "# Print the datatype\n",
    "print(x.dtype)"
   ]
  },
  {
   "cell_type": "code",
   "execution_count": 5,
   "id": "9ce9abe5",
   "metadata": {},
   "outputs": [
    {
     "name": "stdout",
     "output_type": "stream",
     "text": [
      "<class 'torch.Tensor'>\n",
      "torch.DoubleTensor\n"
     ]
    }
   ],
   "source": [
    "# Print the tensor object type\n",
    "print(type(x))\n",
    "print(x.type()) # this is more specific!"
   ]
  },
  {
   "cell_type": "code",
   "execution_count": 6,
   "id": "2f3dd96e",
   "metadata": {},
   "outputs": [
    {
     "name": "stdout",
     "output_type": "stream",
     "text": [
      "[[ 0.  1.  2.]\n",
      " [ 3.  4.  5.]\n",
      " [ 6.  7.  8.]\n",
      " [ 9. 10. 11.]]\n",
      "<class 'numpy.ndarray'>\n"
     ]
    }
   ],
   "source": [
    "arr2 = np.arange(0.,12.).reshape(4,3)\n",
    "print(arr2)\n",
    "print(type(arr2))"
   ]
  },
  {
   "cell_type": "code",
   "execution_count": 7,
   "id": "dd9f6bb8",
   "metadata": {},
   "outputs": [
    {
     "name": "stdout",
     "output_type": "stream",
     "text": [
      "tensor([[ 0.,  1.,  2.],\n",
      "        [ 3.,  4.,  5.],\n",
      "        [ 6.,  7.,  8.],\n",
      "        [ 9., 10., 11.]], dtype=torch.float64)\n",
      "torch.DoubleTensor\n"
     ]
    }
   ],
   "source": [
    "x2 = torch.from_numpy(arr2)\n",
    "print(x2)\n",
    "print(x2.type())"
   ]
  },
  {
   "cell_type": "code",
   "execution_count": 8,
   "id": "5376dc64",
   "metadata": {},
   "outputs": [
    {
     "name": "stdout",
     "output_type": "stream",
     "text": [
      "[[0.776 0.425 0.989 0.077 0.471]\n",
      " [0.95  0.395 0.317 0.987 0.664]\n",
      " [0.836 0.09  0.711 0.461 0.173]\n",
      " [0.317 0.067 0.42  0.81  0.336]\n",
      " [0.164 0.467 0.69  0.89  0.607]]\n",
      "<class 'numpy.matrix'>\n",
      "tensor([[0.7760, 0.4250, 0.9890, 0.0770, 0.4710],\n",
      "        [0.9500, 0.3950, 0.3170, 0.9870, 0.6640],\n",
      "        [0.8360, 0.0900, 0.7110, 0.4610, 0.1730],\n",
      "        [0.3170, 0.0670, 0.4200, 0.8100, 0.3360],\n",
      "        [0.1640, 0.4670, 0.6900, 0.8900, 0.6070]], dtype=torch.float64)\n",
      "<class 'torch.Tensor'>\n"
     ]
    }
   ],
   "source": [
    "rows, cols = 5, 5\n",
    "\n",
    "# Create matrix using array comprehension\n",
    "mat = np.matrix([[np.round(np.random.random(), 3) for _ in range(cols)] for _ in range(rows)])\n",
    "print(mat)\n",
    "print(type(mat))\n",
    "\n",
    "\n",
    "xmat = torch.from_numpy(mat)\n",
    "print(xmat)\n",
    "print(type(xmat))"
   ]
  },
  {
   "cell_type": "code",
   "execution_count": 9,
   "id": "72d7c641",
   "metadata": {},
   "outputs": [
    {
     "data": {
      "text/plain": [
       "False"
      ]
     },
     "execution_count": 9,
     "metadata": {},
     "output_type": "execute_result"
    }
   ],
   "source": [
    "# Check if an object is a tensor\n",
    "torch.is_tensor(mat)"
   ]
  },
  {
   "cell_type": "markdown",
   "id": "41734252",
   "metadata": {},
   "source": [
    "![image](1.png)"
   ]
  },
  {
   "cell_type": "code",
   "execution_count": 10,
   "id": "77f6eec5",
   "metadata": {},
   "outputs": [
    {
     "data": {
      "text/plain": [
       "'torch.DoubleTensor'"
      ]
     },
     "execution_count": 10,
     "metadata": {},
     "output_type": "execute_result"
    }
   ],
   "source": [
    "xmat.type()"
   ]
  },
  {
   "cell_type": "code",
   "execution_count": 11,
   "id": "3100c491",
   "metadata": {},
   "outputs": [
    {
     "name": "stdout",
     "output_type": "stream",
     "text": [
      "tensor(0)\n"
     ]
    },
    {
     "data": {
      "text/plain": [
       "'torch.LongTensor'"
      ]
     },
     "execution_count": 11,
     "metadata": {},
     "output_type": "execute_result"
    }
   ],
   "source": [
    "z = torch.from_numpy(np.array(np.random.random()).astype('int64'))\n",
    "print(z)\n",
    "z.type()"
   ]
  },
  {
   "cell_type": "markdown",
   "id": "74e48a8e",
   "metadata": {},
   "source": [
    "- `torch.from_numpy()`\n",
    "- `torch.as_tensor()`\n",
    "- `torch.tensor()`\n",
    "\n",
    "There are a number of different functions available for creating tensors. When using `torch.from_numpy()` and `torch.as_tensor()`, the PyTorch tensor and the source NumPy array share the same memory. This means that changes to one affect the other. However, the `torch.tensor()` function always makes a copy."
   ]
  },
  {
   "cell_type": "code",
   "execution_count": 12,
   "id": "adaf9e52",
   "metadata": {},
   "outputs": [
    {
     "name": "stdout",
     "output_type": "stream",
     "text": [
      "tensor([0, 1, 2, 3, 4], dtype=torch.int32)\n"
     ]
    }
   ],
   "source": [
    "# Using torch.from_numpy()\n",
    "arr = np.arange(0,5)\n",
    "t = torch.from_numpy(arr)\n",
    "print(t)"
   ]
  },
  {
   "cell_type": "code",
   "execution_count": 13,
   "id": "c44f604d",
   "metadata": {},
   "outputs": [
    {
     "name": "stdout",
     "output_type": "stream",
     "text": [
      "tensor([ 0,  1, 77,  3,  4], dtype=torch.int32)\n"
     ]
    }
   ],
   "source": [
    "arr[2] = 77\n",
    "print(t)"
   ]
  },
  {
   "cell_type": "code",
   "execution_count": 14,
   "id": "3307175d",
   "metadata": {},
   "outputs": [
    {
     "name": "stdout",
     "output_type": "stream",
     "text": [
      "tensor([0, 1, 2, 3, 4], dtype=torch.int32)\n"
     ]
    }
   ],
   "source": [
    "# Using torch.tensor()\n",
    "arr = np.arange(0,5)\n",
    "t = torch.tensor(arr)\n",
    "print(t)"
   ]
  },
  {
   "cell_type": "code",
   "execution_count": 15,
   "id": "6886edc5",
   "metadata": {},
   "outputs": [
    {
     "name": "stdout",
     "output_type": "stream",
     "text": [
      "tensor([0, 1, 2, 3, 4], dtype=torch.int32)\n"
     ]
    }
   ],
   "source": [
    "arr[2] = 77\n",
    "print(t)"
   ]
  },
  {
   "cell_type": "markdown",
   "id": "c35ae5e9",
   "metadata": {},
   "source": [
    "### 2. Creating tensors from scratch\n",
    "\n",
    "#### Uninitialized tensors with `.empty()`\n",
    "\n",
    "`torch.empty()` returns an uninitialized tensor. Essentially a block of memory is allocated according to the size of the tensor, and any values already sitting in the block are returned. This is similar to the behavior of `numpy.empty()`."
   ]
  },
  {
   "cell_type": "code",
   "execution_count": 16,
   "id": "1d2b23f0",
   "metadata": {},
   "outputs": [
    {
     "name": "stdout",
     "output_type": "stream",
     "text": [
      "tensor([[0., 0., 0.],\n",
      "        [0., 0., 0.],\n",
      "        [0., 0., 0.],\n",
      "        [0., 0., 0.]])\n"
     ]
    }
   ],
   "source": [
    "x = torch.empty(4, 3)\n",
    "print(x)"
   ]
  },
  {
   "cell_type": "markdown",
   "id": "af2b5f3c",
   "metadata": {},
   "source": [
    "#### Initialized tensors with `.zeros()` and `.ones()`\n",
    "\n",
    "- `torch.zeros(size)`\n",
    "- `torch.ones(size)`\n",
    "\n",
    "It's a good idea to pass in the intended `dtype`."
   ]
  },
  {
   "cell_type": "code",
   "execution_count": 17,
   "id": "f5c7bb37",
   "metadata": {},
   "outputs": [
    {
     "name": "stdout",
     "output_type": "stream",
     "text": [
      "tensor([[0, 0, 0],\n",
      "        [0, 0, 0],\n",
      "        [0, 0, 0],\n",
      "        [0, 0, 0]])\n"
     ]
    }
   ],
   "source": [
    "x = torch.zeros(4, 3, dtype=torch.int64)\n",
    "print(x)"
   ]
  },
  {
   "cell_type": "code",
   "execution_count": 18,
   "id": "8778ea50",
   "metadata": {},
   "outputs": [
    {
     "name": "stdout",
     "output_type": "stream",
     "text": [
      "tensor([[1., 1., 1., 1.],\n",
      "        [1., 1., 1., 1.],\n",
      "        [1., 1., 1., 1.],\n",
      "        [1., 1., 1., 1.]])\n"
     ]
    }
   ],
   "source": [
    "x = torch.ones(4, 4)\n",
    "print(x)"
   ]
  },
  {
   "cell_type": "markdown",
   "id": "34d4e7b3",
   "metadata": {},
   "source": [
    "#### Tensors from ranges\n",
    "\n",
    "- `torch.arange(start, end, step)`\n",
    "- `torch.linspace(start, end, steps)`\n",
    "\n",
    "**Note:** With `.arange()`, `end` is exclusive, while with `linspace()`, `end` is inclusive."
   ]
  },
  {
   "cell_type": "code",
   "execution_count": 19,
   "id": "e9823528",
   "metadata": {},
   "outputs": [
    {
     "name": "stdout",
     "output_type": "stream",
     "text": [
      "tensor([[ 0,  2,  4],\n",
      "        [ 6,  8, 10],\n",
      "        [12, 14, 16]])\n"
     ]
    }
   ],
   "source": [
    "x = torch.arange(0,18,2).reshape(3,3)\n",
    "print(x)"
   ]
  },
  {
   "cell_type": "code",
   "execution_count": 20,
   "id": "4e4ec067",
   "metadata": {},
   "outputs": [
    {
     "name": "stdout",
     "output_type": "stream",
     "text": [
      "tensor([[ 0.0000,  1.6364,  3.2727,  4.9091],\n",
      "        [ 6.5455,  8.1818,  9.8182, 11.4545],\n",
      "        [13.0909, 14.7273, 16.3636, 18.0000]])\n"
     ]
    }
   ],
   "source": [
    "x = torch.linspace(0,18,12).reshape(3,4)\n",
    "print(x)"
   ]
  },
  {
   "cell_type": "markdown",
   "id": "aba7b558",
   "metadata": {},
   "source": [
    "Tensors from data\n",
    "\n",
    "torch.tensor() will choose the dtype based on incoming data:"
   ]
  },
  {
   "cell_type": "code",
   "execution_count": 21,
   "id": "5b5b3f55",
   "metadata": {},
   "outputs": [
    {
     "name": "stdout",
     "output_type": "stream",
     "text": [
      "tensor([1, 2, 3, 4])\n",
      "torch.int64\n",
      "torch.LongTensor\n"
     ]
    },
    {
     "data": {
      "text/plain": [
       "tensor([1, 2, 3, 4], dtype=torch.int32)"
      ]
     },
     "execution_count": 21,
     "metadata": {},
     "output_type": "execute_result"
    }
   ],
   "source": [
    "x = torch.tensor([1, 2, 3, 4])\n",
    "print(x)\n",
    "print(x.dtype)\n",
    "print(x.type())\n",
    "#changing datatypes\n",
    "x.type(torch.int32)"
   ]
  },
  {
   "cell_type": "markdown",
   "id": "451ed854",
   "metadata": {},
   "source": [
    "You can also pass the dtype in as an argument. For a list of dtypes visit https://pytorch.org/docs/stable/tensor_attributes.html#torch.torch.dtype"
   ]
  },
  {
   "cell_type": "code",
   "execution_count": 22,
   "id": "2f839cda",
   "metadata": {},
   "outputs": [
    {
     "name": "stdout",
     "output_type": "stream",
     "text": [
      "tensor([ 8,  9, -3], dtype=torch.int32)\n",
      "torch.int32\n",
      "torch.IntTensor\n"
     ]
    }
   ],
   "source": [
    "x = torch.tensor([8,9,-3], dtype=torch.int)\n",
    "print(x)\n",
    "print(x.dtype)\n",
    "print(x.type())"
   ]
  },
  {
   "cell_type": "markdown",
   "id": "8552ca0a",
   "metadata": {},
   "source": [
    "Changing the dtype of existing tensors\n",
    "\n",
    "Don't be tempted to use x = torch.tensor(x, dtype=torch.type) as it will raise an error about improper use of tensor cloning.\n",
    "Instead, use the tensor .type() method."
   ]
  },
  {
   "cell_type": "code",
   "execution_count": 23,
   "id": "c752bd80",
   "metadata": {},
   "outputs": [
    {
     "name": "stdout",
     "output_type": "stream",
     "text": [
      "Old: torch.IntTensor\n",
      "New: torch.LongTensor\n"
     ]
    }
   ],
   "source": [
    "print('Old:', x.type())\n",
    "\n",
    "x = x.type(torch.int64)\n",
    "\n",
    "print('New:', x.type())"
   ]
  },
  {
   "cell_type": "markdown",
   "id": "eb937fa5",
   "metadata": {},
   "source": [
    "Random number tensor\n",
    "\n",
    "`torch.rand(size)` returns random samples from a uniform distribution over [0, 1)\n",
    "\n",
    "`torch.randn(size)` returns samples from the \"standard normal\" distribution [σ = 1]\n",
    "\n",
    " Unlike rand which is uniform, values closer to zero are more likely to appear.\n",
    "\n",
    "`torch.randint(low,high,size)` returns random integers from low (inclusive) to high (exclusive)"
   ]
  },
  {
   "cell_type": "code",
   "execution_count": 24,
   "id": "319f8f5c",
   "metadata": {},
   "outputs": [
    {
     "name": "stdout",
     "output_type": "stream",
     "text": [
      "tensor([[0.1871, 0.3801, 0.6479],\n",
      "        [0.9129, 0.2599, 0.1558],\n",
      "        [0.4040, 0.8006, 0.1917],\n",
      "        [0.7850, 0.9114, 0.9131]])\n"
     ]
    }
   ],
   "source": [
    "x = torch.rand(4, 3)\n",
    "print(x)"
   ]
  },
  {
   "cell_type": "code",
   "execution_count": 25,
   "id": "ae318df2",
   "metadata": {},
   "outputs": [
    {
     "name": "stdout",
     "output_type": "stream",
     "text": [
      "tensor([[ 0.9591, -1.1598,  0.4209],\n",
      "        [ 1.2222, -0.2730, -0.9472],\n",
      "        [-0.4980, -0.0789,  0.7753],\n",
      "        [ 2.1318, -0.3183,  0.4144]])\n"
     ]
    }
   ],
   "source": [
    "x = torch.randn(4, 3)\n",
    "print(x)"
   ]
  },
  {
   "cell_type": "markdown",
   "id": "004d448c",
   "metadata": {},
   "source": [
    "Random number tensors that follow the input size\n",
    "\n",
    "`torch.rand_like(input)`\n",
    "\n",
    "`torch.randn_like(input)`\n",
    "\n",
    "`torch.randint_like(input,low,high)`\n",
    "\n",
    "these return random number tensors with the same size as input"
   ]
  },
  {
   "cell_type": "code",
   "execution_count": 26,
   "id": "918be8cd",
   "metadata": {},
   "outputs": [
    {
     "name": "stdout",
     "output_type": "stream",
     "text": [
      "tensor([[0., 0., 0., 0., 0.],\n",
      "        [0., 0., 0., 0., 0.]])\n"
     ]
    }
   ],
   "source": [
    "x = torch.zeros(2,5)\n",
    "print(x)"
   ]
  },
  {
   "cell_type": "code",
   "execution_count": 27,
   "id": "671c0fb5",
   "metadata": {},
   "outputs": [
    {
     "name": "stdout",
     "output_type": "stream",
     "text": [
      "tensor([[ 0.0932, -0.6070, -0.7986,  0.3791, -0.0267],\n",
      "        [-0.2754, -1.3480,  0.1265,  1.9162,  0.7564]])\n"
     ]
    }
   ],
   "source": [
    "x2 = torch.randn_like(x)\n",
    "print(x2)"
   ]
  },
  {
   "cell_type": "markdown",
   "id": "d03a60b8",
   "metadata": {},
   "source": [
    "The same syntax can be used with\n",
    "\n",
    "`torch.zeros_like(input)`\n",
    "\n",
    "`torch.ones_like(input)`"
   ]
  },
  {
   "cell_type": "code",
   "execution_count": 28,
   "id": "c260100c",
   "metadata": {},
   "outputs": [
    {
     "name": "stdout",
     "output_type": "stream",
     "text": [
      "tensor([[1., 1., 1., 1., 1.],\n",
      "        [1., 1., 1., 1., 1.]])\n"
     ]
    }
   ],
   "source": [
    "x3 = torch.ones_like(x2)\n",
    "print(x3)"
   ]
  },
  {
   "cell_type": "code",
   "execution_count": 29,
   "id": "bc3e849e",
   "metadata": {},
   "outputs": [
    {
     "name": "stdout",
     "output_type": "stream",
     "text": [
      "tensor([[0., 0., 0., 0., 0.],\n",
      "        [0., 0., 0., 0., 0.]])\n"
     ]
    }
   ],
   "source": [
    "x4 = torch.zeros_like(x3)\n",
    "print(x4)"
   ]
  },
  {
   "cell_type": "markdown",
   "id": "7b6720b7",
   "metadata": {},
   "source": [
    "Setting the random seed\n",
    "\n",
    "`torch.manual_seed(int)` is used to obtain reproducible results"
   ]
  },
  {
   "cell_type": "code",
   "execution_count": 30,
   "id": "a4028e7e",
   "metadata": {},
   "outputs": [
    {
     "name": "stdout",
     "output_type": "stream",
     "text": [
      "tensor([[0.8823, 0.9150, 0.3829],\n",
      "        [0.9593, 0.3904, 0.6009]])\n"
     ]
    }
   ],
   "source": [
    "torch.manual_seed(42)\n",
    "x = torch.rand(2, 3)\n",
    "print(x)"
   ]
  },
  {
   "cell_type": "code",
   "execution_count": 31,
   "id": "6d94568e",
   "metadata": {},
   "outputs": [
    {
     "name": "stdout",
     "output_type": "stream",
     "text": [
      "tensor([[0.8823, 0.9150, 0.3829],\n",
      "        [0.9593, 0.3904, 0.6009]])\n"
     ]
    }
   ],
   "source": [
    "torch.manual_seed(42)\n",
    "x = torch.rand(2, 3)\n",
    "print(x)"
   ]
  },
  {
   "cell_type": "markdown",
   "id": "130ac255",
   "metadata": {},
   "source": [
    "Tensor attributes\n",
    "\n",
    "Besides dtype, we can look at other `tensor attributes` like shape, device and layout."
   ]
  },
  {
   "cell_type": "code",
   "execution_count": 32,
   "id": "2aa7bd48",
   "metadata": {},
   "outputs": [
    {
     "data": {
      "text/plain": [
       "torch.Size([2, 3])"
      ]
     },
     "execution_count": 32,
     "metadata": {},
     "output_type": "execute_result"
    }
   ],
   "source": [
    "x.shape"
   ]
  },
  {
   "cell_type": "code",
   "execution_count": 33,
   "id": "2b6d3130",
   "metadata": {},
   "outputs": [
    {
     "data": {
      "text/plain": [
       "torch.Size([2, 3])"
      ]
     },
     "execution_count": 33,
     "metadata": {},
     "output_type": "execute_result"
    }
   ],
   "source": [
    "x.size()  # equivalent to x.shape"
   ]
  },
  {
   "cell_type": "code",
   "execution_count": 34,
   "id": "a059e049",
   "metadata": {},
   "outputs": [
    {
     "data": {
      "text/plain": [
       "device(type='cpu')"
      ]
     },
     "execution_count": 34,
     "metadata": {},
     "output_type": "execute_result"
    }
   ],
   "source": [
    "x.device"
   ]
  },
  {
   "cell_type": "markdown",
   "id": "ca2cf974",
   "metadata": {},
   "source": [
    "PyTorch supports use of multiple `devices`, harnessing the power of one or more GPUs in addition to the CPU. We won't explore that here, but you should know that operations between tensors can only happen for tensors installed on the same device."
   ]
  },
  {
   "cell_type": "code",
   "execution_count": 35,
   "id": "b2720b57",
   "metadata": {},
   "outputs": [
    {
     "data": {
      "text/plain": [
       "torch.strided"
      ]
     },
     "execution_count": 35,
     "metadata": {},
     "output_type": "execute_result"
    }
   ],
   "source": [
    "x.layout"
   ]
  },
  {
   "cell_type": "markdown",
   "id": "f1a03018",
   "metadata": {},
   "source": [
    "PyTorch has a class to hold the `memory layout` option. The default setting of strided will suit our purposes throughout the course."
   ]
  },
  {
   "cell_type": "markdown",
   "id": "d15c3362",
   "metadata": {},
   "source": [
    "### 3. Indexing and Slicing\n",
    "Extracting specific values from a tensor works just the same as with NumPy arrays."
   ]
  },
  {
   "cell_type": "code",
   "execution_count": 36,
   "id": "d982573c",
   "metadata": {},
   "outputs": [
    {
     "name": "stdout",
     "output_type": "stream",
     "text": [
      "tensor([[0, 1],\n",
      "        [2, 3],\n",
      "        [4, 5]])\n"
     ]
    }
   ],
   "source": [
    "x = torch.arange(6).reshape(3,2)\n",
    "print(x)"
   ]
  },
  {
   "cell_type": "code",
   "execution_count": 37,
   "id": "c06d25c7",
   "metadata": {},
   "outputs": [
    {
     "data": {
      "text/plain": [
       "tensor([1, 3, 5])"
      ]
     },
     "execution_count": 37,
     "metadata": {},
     "output_type": "execute_result"
    }
   ],
   "source": [
    "# Grabbing the right hand column values\n",
    "x[:,1]"
   ]
  },
  {
   "cell_type": "code",
   "execution_count": 38,
   "id": "c76952cf",
   "metadata": {},
   "outputs": [
    {
     "data": {
      "text/plain": [
       "tensor([[1],\n",
       "        [3],\n",
       "        [5]])"
      ]
     },
     "execution_count": 38,
     "metadata": {},
     "output_type": "execute_result"
    }
   ],
   "source": [
    "# Grabbing the right hand column as a (3,1) slice\n",
    "x[:,1:]"
   ]
  },
  {
   "cell_type": "markdown",
   "id": "bcb1106e",
   "metadata": {},
   "source": [
    "### 4. Reshape tensors with .view()\n",
    "`view()` and `reshape()` do essentially the same thing by returning a reshaped tensor without changing the original tensor in place.\n",
    "There's a good discussion of the differences here."
   ]
  },
  {
   "cell_type": "code",
   "execution_count": 39,
   "id": "a6d455b7",
   "metadata": {},
   "outputs": [
    {
     "name": "stdout",
     "output_type": "stream",
     "text": [
      "tensor([0, 1, 2, 3, 4, 5, 6, 7, 8, 9])\n"
     ]
    }
   ],
   "source": [
    "x = torch.arange(10)\n",
    "print(x)"
   ]
  },
  {
   "cell_type": "code",
   "execution_count": 40,
   "id": "2054d6e0",
   "metadata": {},
   "outputs": [
    {
     "data": {
      "text/plain": [
       "tensor([[5, 1, 2, 3, 4],\n",
       "        [5, 6, 7, 8, 9]])"
      ]
     },
     "execution_count": 40,
     "metadata": {},
     "output_type": "execute_result"
    }
   ],
   "source": [
    "y = x.view(2,5)\n",
    "y[0, 0] = 5\n",
    "y"
   ]
  },
  {
   "cell_type": "code",
   "execution_count": 41,
   "id": "8fed0596",
   "metadata": {},
   "outputs": [
    {
     "data": {
      "text/plain": [
       "tensor([5, 1, 2, 3, 4, 5, 6, 7, 8, 9])"
      ]
     },
     "execution_count": 41,
     "metadata": {},
     "output_type": "execute_result"
    }
   ],
   "source": [
    "# x is changed by changing y, which shares the data...\n",
    "x"
   ]
  },
  {
   "cell_type": "code",
   "execution_count": 42,
   "id": "ebe61439",
   "metadata": {},
   "outputs": [],
   "source": [
    "a = x.reshape(5,2)\n",
    "a[0, 0] = 99"
   ]
  },
  {
   "cell_type": "code",
   "execution_count": 43,
   "id": "33721ac8",
   "metadata": {},
   "outputs": [
    {
     "data": {
      "text/plain": [
       "tensor([99,  1,  2,  3,  4,  5,  6,  7,  8,  9])"
      ]
     },
     "execution_count": 43,
     "metadata": {},
     "output_type": "execute_result"
    }
   ],
   "source": [
    "x"
   ]
  },
  {
   "cell_type": "markdown",
   "id": "87bb3ead",
   "metadata": {},
   "source": [
    "Adopt another tensor's shape with .view_as()\n",
    "`view_as(input)` only works with tensors that have the same number of elements."
   ]
  },
  {
   "cell_type": "code",
   "execution_count": 44,
   "id": "62397d40",
   "metadata": {},
   "outputs": [
    {
     "data": {
      "text/plain": [
       "tensor([[99,  1],\n",
       "        [ 2,  3],\n",
       "        [ 4,  5],\n",
       "        [ 6,  7],\n",
       "        [ 8,  9]])"
      ]
     },
     "execution_count": 44,
     "metadata": {},
     "output_type": "execute_result"
    }
   ],
   "source": [
    "z = torch.ones((5, 2))\n",
    "x.view_as(z)"
   ]
  },
  {
   "cell_type": "code",
   "execution_count": 45,
   "id": "0d1c1fc8",
   "metadata": {},
   "outputs": [
    {
     "data": {
      "text/plain": [
       "tensor([[1., 1.],\n",
       "        [1., 1.],\n",
       "        [1., 1.],\n",
       "        [1., 1.],\n",
       "        [1., 1.]])"
      ]
     },
     "execution_count": 45,
     "metadata": {},
     "output_type": "execute_result"
    }
   ],
   "source": [
    "z"
   ]
  },
  {
   "cell_type": "markdown",
   "id": "c7f81bbe",
   "metadata": {},
   "source": [
    "### 5. Tensor Arithmetic\n",
    "Adding tensors can be performed a few different ways depending on the desired result.\n",
    "As a simple expression:"
   ]
  },
  {
   "cell_type": "code",
   "execution_count": 46,
   "id": "6b61fd99",
   "metadata": {},
   "outputs": [
    {
     "name": "stdout",
     "output_type": "stream",
     "text": [
      "tensor([5., 7., 9.])\n"
     ]
    }
   ],
   "source": [
    "a = torch.tensor([1,2,3], dtype=torch.float)\n",
    "b = torch.tensor([4,5,6], dtype=torch.float)\n",
    "print(a + b)"
   ]
  },
  {
   "cell_type": "markdown",
   "id": "908e21c0",
   "metadata": {},
   "source": [
    "As arguments passed into a torch operation:"
   ]
  },
  {
   "cell_type": "code",
   "execution_count": 47,
   "id": "4132fba9",
   "metadata": {},
   "outputs": [
    {
     "name": "stdout",
     "output_type": "stream",
     "text": [
      "tensor([5., 7., 9.])\n"
     ]
    }
   ],
   "source": [
    "print(torch.add(a, b))"
   ]
  },
  {
   "cell_type": "markdown",
   "id": "040960ef",
   "metadata": {},
   "source": [
    "With an output tensor passed in as an argument:"
   ]
  },
  {
   "cell_type": "code",
   "execution_count": 48,
   "id": "ca36af36",
   "metadata": {},
   "outputs": [
    {
     "name": "stdout",
     "output_type": "stream",
     "text": [
      "tensor([5., 7., 9.])\n"
     ]
    }
   ],
   "source": [
    "result = torch.empty(3)\n",
    "torch.add(a, b, out=result)  # equivalent to result=torch.add(a,b)\n",
    "print(result)"
   ]
  },
  {
   "cell_type": "code",
   "execution_count": 49,
   "id": "32b01105",
   "metadata": {},
   "outputs": [
    {
     "name": "stdout",
     "output_type": "stream",
     "text": [
      "tensor([5., 7., 9.])\n"
     ]
    }
   ],
   "source": [
    "a.add_(b)  # equivalent to a=torch.add(a,b)\n",
    "print(a)"
   ]
  },
  {
   "cell_type": "markdown",
   "id": "db1627ac",
   "metadata": {},
   "source": [
    "`NOTE:` Any operation that changes a tensor in-place is post-fixed with an underscore _.\n",
    "In the above example: a.add_(b) changed a."
   ]
  },
  {
   "cell_type": "markdown",
   "id": "7d829ee7",
   "metadata": {},
   "source": [
    "#### **Basic Tensor Operations**\n",
    "\n",
    "#### ARITHMETIC\n",
    "\n",
    "| Operation | Function | Description |\n",
    "|-----------|----------|-------------|\n",
    "| `a + b` | `a.add(b)` | element wise addition |\n",
    "| `a - b` | `a.sub(b)` | subtraction |\n",
    "| `a * b` | `a.mul(b)` | multiplication |\n",
    "| `a / b` | `a.div(b)` | division |\n",
    "| `a % b` | `a.fmod(b)` | modulo (remainder after division) |\n",
    "| `a^b` | `a.pow(b)` | power |\n",
    "\n",
    "#### MONOMIAL OPERATIONS\n",
    "\n",
    "| Operation | Function | Description |\n",
    "|-----------|----------|-------------|\n",
    "| `\\|a\\|` | `torch.abs(a)` | absolute value |\n",
    "| `1/a` | `torch.reciprocal(a)` | reciprocal |\n",
    "| `√a` | `torch.sqrt(a)` | square root |\n",
    "| `log(a)` | `torch.log(a)` | natural log |\n",
    "| `e^a` | `torch.exp(a)` | exponential |\n",
    "| `12.34 → 12.` | `torch.trunc(a)` | truncated integer |\n",
    "| `12.34 → 0.34` | `torch.frac(a)` | fractional component |\n",
    "\n",
    "#### SUMMARY STATISTICS\n",
    "\n",
    "| Operation | Function | Description |\n",
    "|-----------|----------|-------------|\n",
    "| `∑a` | `torch.sum(a)` | sum |\n",
    "| `ā` | `torch.mean(a)` | mean |\n",
    "| `a_max` | `torch.max(a)` | maximum |\n",
    "| `a_min` | `torch.min(a)` | minimum |\n",
    "\n",
    "`torch.max(a,b)` returns a tensor of size `a` containing the element wise max between `a` and `b`.\n",
    "\n",
    "**NOTE:** Most arithmetic operations require float values. Those that do work with integers return integer tensors. For example, `torch.div(a,b)` performs floor division (truncates the decimal) for integer types, and classic division for floats.\n",
    "\n",
    "### 6. Dot Products\n",
    "\n",
    "A dot product is the sum of the products of the corresponding entries of two 1D tensors. If the tensors are both vectors, the dot product is given as:\n",
    "\n",
    "$$\n",
    "\\begin{bmatrix} a & b & c \\end{bmatrix} \\cdot \\begin{bmatrix} d \\\\ e \\\\ f \\end{bmatrix} = ad + be + cf\n",
    "$$\n",
    "\n",
    "If the tensors include a column vector, then the dot product is the sum of the result of the multiplied matrices. For example:\n",
    "\n",
    "$$\n",
    "\\begin{bmatrix} a & b & c \\end{bmatrix} \\cdot \\begin{bmatrix} d \\\\ e \\\\ f \\end{bmatrix} = ad + be + cf\n",
    "$$\n",
    "\n",
    "Dot products can be expressed as `torch.dot(a,b)` or `a.dot(b)` or `b.dot(a)`."
   ]
  },
  {
   "cell_type": "code",
   "execution_count": 50,
   "id": "0103afa7",
   "metadata": {},
   "outputs": [
    {
     "name": "stdout",
     "output_type": "stream",
     "text": [
      "tensor(32.)\n"
     ]
    }
   ],
   "source": [
    "a = torch.tensor([1,2,3], dtype=torch.float)\n",
    "b = torch.tensor([4,5,6], dtype=torch.float)\n",
    "print(a.dot(b))"
   ]
  },
  {
   "cell_type": "markdown",
   "id": "8818065e",
   "metadata": {},
   "source": [
    "`NOTE:` There's a slight difference between torch.dot() and numpy.dot(). While torch.dot() only accepts 1D arguments and returns a dot product, numpy.dot() also accepts 2D arguments and performs matrix multiplication. We show matrix multiplication below."
   ]
  },
  {
   "cell_type": "markdown",
   "id": "e8ad35f9",
   "metadata": {},
   "source": [
    "### 7. Matrix Multiplication\n",
    "\n",
    "2D Matrix multiplication is possible when the number of columns in tensor A matches the number of rows in tensor B. In this case, the product of tensor A with size $(x, y)$ and tensor B with size $(y, z)$ results in a tensor of size $(x, z)$.\n",
    "\n",
    "$$\n",
    "\\begin{bmatrix}\n",
    "a & b & c \\\\\n",
    "d & e & f\n",
    "\\end{bmatrix}\n",
    "\\times\n",
    "\\begin{bmatrix}\n",
    "m & n \\\\\n",
    "p & q \\\\\n",
    "r & s\n",
    "\\end{bmatrix}\n",
    "=\n",
    "\\begin{bmatrix}\n",
    "(am + bp + cr) & (an + bq + cs) \\\\\n",
    "(dm + ep + fr) & (dn + eq + fs)\n",
    "\\end{bmatrix}\n",
    "$$\n",
    "\n",
    "Matrix multiplication can be computed using:\n",
    "- `torch.mm(a, b)`\n",
    "- `a.mm(b)`\n",
    "- `a @ b`"
   ]
  },
  {
   "cell_type": "code",
   "execution_count": 51,
   "id": "a29277f6",
   "metadata": {},
   "outputs": [
    {
     "name": "stdout",
     "output_type": "stream",
     "text": [
      "a:  torch.Size([2, 3])\n",
      "b:  torch.Size([3, 2])\n",
      "a x b:  torch.Size([2, 2])\n"
     ]
    }
   ],
   "source": [
    "a = torch.tensor([[0,2,4],[1,3,5]], dtype=torch.float)\n",
    "b = torch.tensor([[6,7],[8,9],[10,11]], dtype=torch.float)\n",
    "\n",
    "print('a: ',a.size())\n",
    "print('b: ',b.size())\n",
    "print('a x b: ',torch.mm(a,b).size())"
   ]
  },
  {
   "cell_type": "code",
   "execution_count": 52,
   "id": "0a55cc22",
   "metadata": {},
   "outputs": [
    {
     "name": "stdout",
     "output_type": "stream",
     "text": [
      "tensor([[56., 62.],\n",
      "        [80., 89.]])\n"
     ]
    }
   ],
   "source": [
    "print(torch.mm(a,b))"
   ]
  },
  {
   "cell_type": "code",
   "execution_count": 53,
   "id": "94a8251a",
   "metadata": {},
   "outputs": [
    {
     "name": "stdout",
     "output_type": "stream",
     "text": [
      "tensor([[56., 62.],\n",
      "        [80., 89.]])\n"
     ]
    }
   ],
   "source": [
    "print(a.mm(b))"
   ]
  },
  {
   "cell_type": "code",
   "execution_count": 54,
   "id": "a6b5f9f1",
   "metadata": {},
   "outputs": [
    {
     "name": "stdout",
     "output_type": "stream",
     "text": [
      "tensor([[56., 62.],\n",
      "        [80., 89.]])\n"
     ]
    }
   ],
   "source": [
    "print(a @ b)"
   ]
  },
  {
   "cell_type": "markdown",
   "id": "e6f78f03",
   "metadata": {},
   "source": [
    "Matrix multiplication with broadcasting\n",
    "\n",
    "Matrix multiplication that involves broadcasting can be computed using `torch.matmul(a,b)` or `a.matmul(b)` or `a @ b`"
   ]
  },
  {
   "cell_type": "code",
   "execution_count": 55,
   "id": "0b0325a3",
   "metadata": {},
   "outputs": [
    {
     "name": "stdout",
     "output_type": "stream",
     "text": [
      "torch.Size([2, 3, 5])\n"
     ]
    }
   ],
   "source": [
    "t1 = torch.randn(2, 3, 4)\n",
    "t2 = torch.randn(4, 5)\n",
    "\n",
    "print(torch.matmul(t1, t2).size())"
   ]
  },
  {
   "cell_type": "markdown",
   "id": "c37f393d",
   "metadata": {},
   "source": [
    "However, the same operation raises a `RuntimeError` with torch.mm():"
   ]
  },
  {
   "cell_type": "code",
   "execution_count": 56,
   "id": "bc73d7f2",
   "metadata": {},
   "outputs": [
    {
     "data": {
      "text/plain": [
       "tensor([[ 0.7596,  0.7343, -0.6708],\n",
       "        [ 2.7421,  0.5568, -0.8123]])"
      ]
     },
     "execution_count": 56,
     "metadata": {},
     "output_type": "execute_result"
    }
   ],
   "source": [
    "# print(torch.mm(t1, t2).size())\n",
    "t1 = torch.randn(2, 3)\n",
    "t1"
   ]
  },
  {
   "cell_type": "code",
   "execution_count": 57,
   "id": "01b9516c",
   "metadata": {},
   "outputs": [
    {
     "data": {
      "text/plain": [
       "tensor([[ 1.1964],\n",
       "        [ 0.8613],\n",
       "        [-1.3682]])"
      ]
     },
     "execution_count": 57,
     "metadata": {},
     "output_type": "execute_result"
    }
   ],
   "source": [
    "t2 = torch.randn(3).reshape(3,1)\n",
    "t2"
   ]
  },
  {
   "cell_type": "code",
   "execution_count": 58,
   "id": "9be8743f",
   "metadata": {},
   "outputs": [
    {
     "name": "stdout",
     "output_type": "stream",
     "text": [
      "tensor([[2.4590],\n",
      "        [4.8718]])\n"
     ]
    }
   ],
   "source": [
    "print(torch.mm(t1, t2))"
   ]
  },
  {
   "cell_type": "markdown",
   "id": "d6994b16",
   "metadata": {},
   "source": [
    "## 8. Additional Operations\n",
    "\n",
    "### L2 or Euclidean Norm\n",
    "\n",
    "See `torch.norm()`\n",
    "\n",
    "The Euclidean Norm gives the vector norm of $x$ where $x = (x_1, x_2, ..., x_n)$.\n",
    "\n",
    "It is calculated as:\n",
    "\n",
    "$$\n",
    "\\|x\\|_2 := \\sqrt{x_1^2 + \\cdots + x_n^2}\n",
    "$$\n",
    "\n",
    "When applied to a matrix, `torch.norm()` returns the Frobenius norm by default."
   ]
  },
  {
   "cell_type": "code",
   "execution_count": 59,
   "id": "0f896de6",
   "metadata": {},
   "outputs": [
    {
     "data": {
      "text/plain": [
       "tensor(17.)"
      ]
     },
     "execution_count": 59,
     "metadata": {},
     "output_type": "execute_result"
    }
   ],
   "source": [
    "x = torch.tensor([2.,5.,8.,14.])\n",
    "x.norm()"
   ]
  },
  {
   "cell_type": "markdown",
   "id": "2e6f2989",
   "metadata": {},
   "source": [
    "**Number of Elements**\n",
    "\n",
    "  See `torch.numel()`\n",
    "\n",
    "  Returns the number of elements in a tensor."
   ]
  },
  {
   "cell_type": "code",
   "execution_count": 60,
   "metadata": {},
   "outputs": [
    {
     "data": {
      "text/plain": [
       "21"
      ]
     },
     "execution_count": 60,
     "metadata": {},
     "output_type": "execute_result"
    }
   ],
   "source": [
    "x = torch.ones(3,7)\n",
    "x.numel()"
   ]
  }
 ],
 "metadata": {
  "kernelspec": {
   "display_name": "Python (myenv)",
   "language": "python",
   "name": "myenv"
  },
  "language_info": {
   "codemirror_mode": {
    "name": "ipython",
    "version": 3
   },
   "file_extension": ".py",
   "mimetype": "text/x-python",
   "name": "python",
   "nbconvert_exporter": "python",
   "pygments_lexer": "ipython3",
   "version": "3.10.14"
  }
 },
 "nbformat": 4,
 "nbformat_minor": 5
}
