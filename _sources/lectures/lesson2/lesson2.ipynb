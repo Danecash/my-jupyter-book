{
 "cells": [
  {
   "cell_type": "markdown",
   "id": "a212bfdf",
   "metadata": {},
   "source": [
    "# Lecture 2 - Understanding Deep Learning\n",
    "\n",
    "Having explored the historical background and inspiration behind deep learning, we can now delve into understanding the underlying mechanisms of this seemingly sci-fi technology. This journey will uncover how deep learning works, including the foundational concepts, methodologies, and real-world applications that make it a transformative force in modern technology.\n",
    "\n",
    "## Artificial Neural Network\n",
    "\n",
    "Artificial Neural Networks (ANNs) consist of artificial neurons, known as units, organized into layers that form the entire network. These layers can range from having a few dozen units to millions, depending on the complexity required to learn hidden patterns in the data. Typically, an ANN includes an input layer, one or more hidden layers, and an output layer. The input layer receives external data for analysis, which is then processed through the hidden layers that transform the input into valuable information for the output layer. The output layer then generates a response based on the processed data."
   ]
  },
  {
   "cell_type": "markdown",
   "id": "9c37479a",
   "metadata": {},
   "source": [
    "![ANN Structure](example1.png)"
   ]
  },
  {
   "cell_type": "markdown",
   "id": "dc1107da",
   "metadata": {},
   "source": [
    "In most neural networks, units in different layers are interconnected, with each connection having a weight that determines the influence of one unit on another. As data flows through these connections, the neural network progressively learns from the data, ultimately producing an output from the output layer. Artificial neural networks are trained using a dataset. To teach an ANN to recognize a cat, it is presented with thousands of different cat images. The network learns to identify cats by analyzing these images. Once trained, the ANN is tested by classifying new images and determining whether they are cat images or not. The output is compared to a human-provided label. If the ANN misclassifies an image, backpropagation is used to refine the network's weights based on the error rate. This process iterates until the ANN can accurately recognize cat images with minimal errors.\n",
    "\n",
    "## Feedforward Neural Network\n",
    "\n",
    "The feedforward neural network is one of the most basic artificial neural networks. In this ANN, the data or the input provided travels in a single direction. It enters into the ANN through the input layer and exits through the output layer while hidden layers may or may not exist. So the feedforward neural network has a front-propagated wave only and usually does not have backpropagation.\n",
    "\n",
    "Assume that the neurons have a sigmoid activation function, perform a forward pass on the network. Assume that the actual output of $y$ is 1 and learning rate $\\\\alpha$ is 0.9.\n",
    "\n",
    "To calculate $H_1$, we need to calculate first the weighted sum of the input values added by the bias $\\\\theta$.\n",
    "\n",
    "$$\n",
    "Z = \\\\sum_j (w_{i,j} \\\\cdot x_i) + \\\\theta_i\n",
    "$$\n",
    "\n",
    "$$\n",
    "Z_1 = (w_{11} \\\\cdot x_1) + (w_{13} \\\\cdot x_2) + (w_{15} \\\\cdot x_3) + \\\\theta_1\n",
    "$$\n",
    "\n",
    "$$\n",
    "Z_2 = (w_{12} \\\\cdot x_1) + (w_{14} \\\\cdot x_2) + (w_{16} \\\\cdot x_3) + \\\\theta_2\n",
    "$$\n",
    "\n",
    "After computing the weighted sum, we introduce non-linearity to the output result by applying a nonlinear function. For this example, let's use sigmoid function.\n",
    "\n",
    "$$\n",
    "\\\\sigma = \\\\frac{1}{1 + e^{-Z_i}}\n",
    "$$\n",
    "\n",
    "$$\n",
    "H_1 = \\\\sigma(Z_1)\n",
    "$$\n",
    "\n",
    "$$\n",
    "H_2 = \\\\sigma(Z_2)\n",
    "$$\n",
    "\n",
    "Now that we have computed the hidden layer's value, we can now proceed to computing the weighted sum for the output layer using the same procedure as how we compute the $Z_n$ and $H_n$.\n",
    "\n",
    "$$\n",
    "Z_3 = (w_{21} \\\\cdot H_1) + (w_{22} \\\\cdot H_2) + \\\\theta_3\n",
    "$$\n",
    "\n",
    "$$\n",
    "\\\\hat{y} = \\\\sigma(Z_3)\n",
    "$$\n",
    "\n",
    "This is how the calculations in a feedforward neural network are traversed from input to output.\n",
    "\n",
    "\n",
    "## Backward Propagation of Errors\n",
    "\n",
    "Backward propagation a.k.a backprop or backward pass is a fundamental algorithm used for training artificial neural networks. It involves a two-step process: a forward pass and a backward pass. During the forward pass, input data is fed through the network, and the output is generated. The error, or the difference between the predicted output and the actual target, is then calculated. In the backward pass, this error is propagated back through the network, layer by layer, to update the weights and biases. This is done by computing the gradient of the loss function with respect to each weight using the chain rule of calculus. By iteratively adjusting the weights in the direction that reduces the error, backpropagation helps the network learn and improve its performance over time. This process continues until the network's predictions are sufficiently accurate or another stopping criterion is met.\n",
    "\n",
    "The initial value for $\\\\hat{y}$ is not the optimal value since the parameters used were just randomly selected. Therefore, after the forward propagation, a backward propagation algorithm is employed to update the parameters ($w$ and $\\\\theta$).\n",
    "\n",
    "The error at the output layer is calculated as the difference between the predicted output ($\\\\hat{y}$) and the actual output ($y$):\n",
    "\n",
    "$$\n",
    "\\\\delta = \\\\hat{y} - y\n",
    "$$\n",
    "\n",
    "**Compute Hidden Layer Error ($\\\\delta_h$)**\n",
    "$$\n",
    "\\\\delta_h = (\\\\delta_o W^T_o) \\\\cdot \\\\sigma'(Z_h)\n",
    "$$\n",
    "\n",
    "Where:\n",
    "\n",
    "- $\\\\sigma'(Z_h)$ is the derivative of the sigmoid activation function applied to the hidden layer activations $Z_h$:\n",
    "  $$\n",
    "  \\\\sigma'(Z_h) = A_h \\\\cdot (1 - A_h)\n",
    "  $$\n",
    "- $W^T_o$ is the transpose of the output weights matrix $W_o$.\n",
    "\n",
    "**Calculate Gradients**\n",
    "\n",
    "Once we have the errors ($\\\\delta_o$ and $\\\\delta_h$), we compute the gradients of the error with respect to the weights ($W_o$ and $W_h$).\n",
    "\n",
    "**Gradients for Output Layer Weights ($\\\\frac{\\\\partial E}{\\\\partial W_o}$)**\n",
    "$$\n",
    "\\\\frac{\\\\partial E}{\\\\partial W_o} = A^T_h \\\\delta_o\n",
    "$$\n",
    "\n",
    "**Gradients for Hidden Layer Weights ($\\\\frac{\\\\partial E}{\\\\partial W_h}$)**\n",
    "$$\n",
    "\\\\frac{\\\\partial E}{\\\\partial W_h} = X^T \\\\delta_h\n",
    "$$\n",
    "\n",
    "Finally, the weights are updated using the gradients and the learning rate ($\\\\alpha$).\n"
   ]
  },
  {
   "cell_type": "markdown",
   "id": "4c4769ef",
   "metadata": {},
   "source": [
    "## Introduction to PyTorch\n",
    "\n",
    "![PyTorch Logo](Pytorch_logo.png)\n",
    "\n",
    "PyTorch is a powerful and widely-used open-source framework for deep learning, developed by Facebook's AI Research lab. It is designed to provide flexibility and speed for both research and production environments. PyTorch's primary strength lies in its dynamic computation graph, which allows for real-time changes and debugging, making it easier to experiment with new ideas. This is in contrast to static computation graphs used by other frameworks like TensorFlow. PyTorch supports a range of applications, from natural language processing to computer vision, through its extensive library of pre-built modules and tools. Additionally, its integration with Python makes it accessible to a large community of developers and researchers, fostering rapid development and collaboration. With a strong emphasis on simplicity and performance, PyTorch has become a go-to tool for many in the deep learning community.\n",
    "\n",
    "### Setting up the Virtual Environment\n",
    "\n",
    "A virtual environment is a self-contained directory that isolates a specific Python environment, allowing users to manage dependencies and packages for different projects independently. This ensures that each project can have its own unique set of libraries and versions without conflicts, avoiding issues that arise from global installations. Virtual environments are particularly useful for maintaining consistent development environments, making it easier to manage project-specific dependencies and ensuring that applications run smoothly across different setups. Tools like venv and virtualenv facilitate the creation and management of these environments. We can create a virtual environment using either pip or conda.\n",
    "\n",
    "#### With PIP\n",
    "\n",
    "1. Make sure that you have installed python and have its directory path added in the machine's environment variables.\n",
    "2. Create a new folder, make sure that you know the directory of the new folder that you have created.\n",
    "3. Open command prompt and change the directory to the new folder that you created.\n",
    "4. Considering that you already have configured pip in the environment variables, you can now install libraries.\n",
    "5. Run command `pip install virtualenv`.\n",
    "6. You can create a virtual environment with a specific python version but only if the specific version is installed in your system.\n",
    "7. Run command `virtualenv -p /path/to/pythonX.X /path/to/new/virtual/environment`\n",
    "   - Replace `/path/to/pythonX.X` with the path to the desired Python executable (e.g., `/usr/bin/python3.8`)\n",
    "   - Replace `/path/to/new/virtual/environment` with the path where you want to create the virtual environment.\n",
    "8. Activate the virtual environment, make sure that you are inside the directory where the environment's folder is also under.\n",
    "9. Run command `env_name/Scripts/activate`\n",
    "   - Replace `env_name` with the name of the environment you created.\n",
    "\n",
    "#### With CONDA\n",
    "\n",
    "1. Make sure that anaconda is installed in you system.\n",
    "2. Open anaconda prompt and run command `conda create -n python=3.X`\n",
    "3. Activate the environment by running the command `conda activate env_name`.\n",
    "   - Replace `env_name` with the name of the environment you created.\n",
    "\n",
    "### PyTorch Installation\n",
    "\n",
    "1. Make sure that python is installed in your local device, the stable version of pytorch runs on python version 3.6 to 3.9. Make sure that your python version is in between this range. You can check the python version using command the command:\n",
    "\n",
    "```bash\n",
    "python --version"
   ]
  },
  {
   "cell_type": "markdown",
   "id": "ee48fc81",
   "metadata": {},
   "source": [
    "2. Activate the virtual environment, for this demonstration, let's just use the conda virtual enviroment.\n",
    "\n",
    "```bash\n",
    "conda activate env_name\n"
   ]
  },
  {
   "cell_type": "markdown",
   "id": "2aa43db0",
   "metadata": {},
   "source": [
    "3. Go to https://pytorch.org/get-started/locally/ and select appropriate machine configurations and copy the generated command.\n",
    "If you have a CUDA enabled GPU, you can download and install CUDA toolkit version 11.8 or 12.1 first. Otherwise you may only select CPU."
   ]
  },
  {
   "cell_type": "markdown",
   "id": "907af31d",
   "metadata": {},
   "source": [
    "![image](torch.png)"
   ]
  },
  {
   "cell_type": "markdown",
   "id": "8940f1de",
   "metadata": {},
   "source": [
    "4. Paste the command in the anaconda prompt where you activated the virtual enviroment and wait patiently.\n",
    "Just click\n",
    "\n",
    "    Y\n",
    "\n",
    "    when prompted with a question to proceed installation."
   ]
  },
  {
   "cell_type": "markdown",
   "id": "c370b690",
   "metadata": {},
   "source": [
    "![image](torch2.png)"
   ]
  },
  {
   "cell_type": "markdown",
   "id": "77c7f824",
   "metadata": {},
   "source": [
    "### PyTorch Components\n",
    "Let's have linear regression as a case study to study the different components of PyTorch. These are the following components we will be covering:\n",
    "\n",
    "1. Specifying input and target\n",
    "2. Dataset and DataLoader\n",
    "3. nn.Linear\n",
    "\n",
    "    (Dense)\n",
    "4. Define loss function\n",
    "5. Define optimizer function\n",
    "6. Train the model\n",
    "\n",
    "Consider this data:"
   ]
  },
  {
   "cell_type": "markdown",
   "id": "771c5cb9",
   "metadata": {},
   "source": [
    "![image](japan.png)"
   ]
  },
  {
   "cell_type": "markdown",
   "id": "de8cbc5c",
   "metadata": {},
   "source": [
    "In a linear regression model, each target variable is estimated to be a weighted sum of the input variables, offset by some constant, known as a bias:\n",
    "\n",
    "$$\n",
    "\\text{yield}_{\\text{apple}} = w_{11} \\cdot \\text{temp} + w_{12} \\cdot \\text{rainfall} + w_{13} \\cdot \\text{humidity} + b_1\n",
    "$$\n",
    "\n",
    "$$\n",
    "\\text{yield}_{\\text{orange}} = w_{21} \\cdot \\text{temp} + w_{22} \\cdot \\text{rainfall} + w_{23} \\cdot \\text{humidity} + b_2\n",
    "$$\n",
    "\n",
    "Visually, it means that the yield of apples is a linear or planar function of temperature, rainfall and humidity:"
   ]
  },
  {
   "cell_type": "markdown",
   "id": "d1682e9c",
   "metadata": {},
   "source": [
    "![image](japan2.png)"
   ]
  },
  {
   "cell_type": "markdown",
   "id": "cc71f429",
   "metadata": {},
   "source": [
    "The learning part of linear regression is to figure out a set of weights **w11, w12,... w23, b1 & b2** using gradient descent.\n",
    "\n",
    "## Sample Implementation"
   ]
  },
  {
   "cell_type": "code",
   "execution_count": 1,
   "id": "d33483e2",
   "metadata": {},
   "outputs": [],
   "source": [
    "import torch\n",
    "import numpy as np\n",
    "import sys"
   ]
  },
  {
   "cell_type": "code",
   "execution_count": 2,
   "id": "5ed990e1",
   "metadata": {},
   "outputs": [
    {
     "data": {
      "text/plain": [
       "'2.8.0+cpu'"
      ]
     },
     "execution_count": 2,
     "metadata": {},
     "output_type": "execute_result"
    }
   ],
   "source": [
    "torch.__version__"
   ]
  },
  {
   "cell_type": "code",
   "execution_count": 3,
   "id": "022d217d",
   "metadata": {},
   "outputs": [
    {
     "name": "stdout",
     "output_type": "stream",
     "text": [
      "Device:  cpu\n"
     ]
    }
   ],
   "source": [
    "#We can check whether we have gpu\n",
    "device = torch.device(\"cuda:0\" if (torch.cuda.is_available()) else \"cpu\")\n",
    "print(\"Device: \", device)"
   ]
  },
  {
   "cell_type": "markdown",
   "id": "4957821a",
   "metadata": {},
   "source": [
    "#### **1. Specifiying input and target**"
   ]
  },
  {
   "cell_type": "code",
   "execution_count": 5,
   "id": "c9bddf08",
   "metadata": {},
   "outputs": [],
   "source": [
    "# Input (temp, rainfall, humidity)\n",
    "x_train = np.array([\n",
    "    [73, 67, 43], [91, 88, 64], [87, 134, 58], \n",
    "    [102, 43, 37], [69, 96, 70], [73, 67, 43], \n",
    "    [91, 88, 64], [87, 134, 58], [102, 43, 37], \n",
    "    [69, 96, 70], [73, 67, 43], [91, 88, 64], \n",
    "    [87, 134, 58], [102, 43, 37], [69, 96, 70]], \n",
    "                   dtype='float32')\n",
    "\n",
    "# Targets (apples, oranges)\n",
    "y_train = np.array([\n",
    "    [56, 70], [81, 101], [119, 133], \n",
    "    [22, 37], [103, 119], [56, 70], \n",
    "    [81, 101], [119, 133], [22, 37], \n",
    "    [103, 119], [56, 70], [81, 101], \n",
    "    [119, 133], [22, 37], [103, 119]], \n",
    "                   dtype='float32')\n"
   ]
  },
  {
   "cell_type": "code",
   "execution_count": 6,
   "id": "c4c8341c",
   "metadata": {},
   "outputs": [
    {
     "name": "stdout",
     "output_type": "stream",
     "text": [
      "torch.Size([15, 3])\n",
      "torch.Size([15, 2])\n"
     ]
    },
    {
     "data": {
      "text/plain": [
       "torch.Size([15, 2])"
      ]
     },
     "execution_count": 6,
     "metadata": {},
     "output_type": "execute_result"
    }
   ],
   "source": [
    "inputs = torch.from_numpy(x_train)\n",
    "targets = torch.from_numpy(y_train)\n",
    "print(inputs.size())\n",
    "print(targets.size())\n",
    "torch.Size([15, 3])\n",
    "torch.Size([15, 2])"
   ]
  },
  {
   "cell_type": "markdown",
   "id": "1113ee51",
   "metadata": {},
   "source": [
    "#### **2. Dataset and DataLoader**"
   ]
  },
  {
   "cell_type": "markdown",
   "id": "fb9e0dd7",
   "metadata": {},
   "source": [
    "PyTorch provides two data primitives: **torch.utils.data.DataLoader** and **torch.utils.data.Dataset** that allow you to use pre-loaded datasets as well as your own data. Dataset stores the samples and their corresponding labels, and DataLoader wraps an iterable around the Dataset to enable easy access to the samples."
   ]
  },
  {
   "cell_type": "code",
   "execution_count": 7,
   "id": "98da9f7e",
   "metadata": {},
   "outputs": [],
   "source": [
    "from torch.utils.data import TensorDataset"
   ]
  },
  {
   "cell_type": "code",
   "execution_count": 8,
   "id": "44a8d9da",
   "metadata": {},
   "outputs": [
    {
     "data": {
      "text/plain": [
       "(tensor([[ 73.,  67.,  43.],\n",
       "         [ 91.,  88.,  64.],\n",
       "         [ 87., 134.,  58.]]),\n",
       " tensor([[ 56.,  70.],\n",
       "         [ 81., 101.],\n",
       "         [119., 133.]]))"
      ]
     },
     "execution_count": 8,
     "metadata": {},
     "output_type": "execute_result"
    }
   ],
   "source": [
    "# Define dataset\n",
    "train_ds = TensorDataset(inputs, targets)\n",
    "train_ds[0:3]"
   ]
  },
  {
   "cell_type": "markdown",
   "id": "81ce9e11",
   "metadata": {},
   "source": [
    "We'll now create a **DataLoader**, which can split the data into batches of a predefined size while training. It also provides other utilities like shuffling and random sampling of the data."
   ]
  },
  {
   "cell_type": "code",
   "execution_count": 11,
   "id": "c654f801",
   "metadata": {},
   "outputs": [],
   "source": [
    "from torch.utils.data import DataLoader"
   ]
  },
  {
   "cell_type": "code",
   "execution_count": 12,
   "id": "1d040419",
   "metadata": {},
   "outputs": [],
   "source": [
    "# Define data loader\n",
    "batch_size = 3\n",
    "train_dl = DataLoader(train_ds, batch_size, shuffle=True)"
   ]
  },
  {
   "cell_type": "markdown",
   "id": "cb93938c",
   "metadata": {},
   "source": [
    "The **DataLoader** is typically used in a for-in loop. Let's look at an example"
   ]
  },
  {
   "cell_type": "code",
   "execution_count": 13,
   "id": "ff4331e8",
   "metadata": {},
   "outputs": [
    {
     "name": "stdout",
     "output_type": "stream",
     "text": [
      "tensor([[ 73.,  67.,  43.],\n",
      "        [ 91.,  88.,  64.],\n",
      "        [102.,  43.,  37.]])\n",
      "tensor([[ 56.,  70.],\n",
      "        [ 81., 101.],\n",
      "        [ 22.,  37.]])\n"
     ]
    }
   ],
   "source": [
    "for xb, yb in train_dl:\n",
    "    print(xb)\n",
    "    print(yb)\n",
    "    break"
   ]
  },
  {
   "cell_type": "markdown",
   "id": "5eae6f7d",
   "metadata": {},
   "source": [
    "In each iteration, the data loader returns one batch of data, with the given batch size. If shuffle is set to True, it shuffles the training data before creating batches. Shuffling helps randomize the input to the optimization algorithm, which can lead to faster reduction in the loss."
   ]
  },
  {
   "cell_type": "markdown",
   "id": "b191f018",
   "metadata": {},
   "source": [
    "#### **3. Define some Layer - nn.Linear**\n",
    "\n",
    "Instead of initializing the weights & biases manually, we can define the model using the **nn.Linear** class from PyTorch, which does it automatically."
   ]
  },
  {
   "cell_type": "code",
   "execution_count": 14,
   "id": "2124fcad",
   "metadata": {},
   "outputs": [
    {
     "name": "stdout",
     "output_type": "stream",
     "text": [
      "Parameter containing:\n",
      "tensor([[-0.2630, -0.2974,  0.2388],\n",
      "        [ 0.1564, -0.4856, -0.3175]], requires_grad=True)\n",
      "torch.Size([2, 3])\n",
      "Parameter containing:\n",
      "tensor([ 0.3226, -0.2910], requires_grad=True)\n",
      "torch.Size([2])\n"
     ]
    }
   ],
   "source": [
    "import torch.nn as nn\n",
    "\n",
    "# Define model\n",
    "model = nn.Linear(3, 2)  #nn.Linear assume this shape (in_features, out_features)\n",
    "print(model.weight)\n",
    "print(model.weight.size()) # (out_features, in_features)\n",
    "print(model.bias)\n",
    "print(model.bias.size()) #(out_features)"
   ]
  },
  {
   "cell_type": "markdown",
   "id": "d28f4809",
   "metadata": {},
   "source": [
    "In fact, our model is simply a function that performs a matrix multiplication of the **inputs** and the weights **w** and adds the bias **b** (for each observation)"
   ]
  },
  {
   "cell_type": "markdown",
   "id": "192ed665",
   "metadata": {},
   "source": [
    "![image](dot.png)"
   ]
  },
  {
   "cell_type": "markdown",
   "id": "776aa256",
   "metadata": {},
   "source": [
    "PyTorch models also have a helpful **.parameters** method, which returns a list containing all the weights and bias matrices present in the model. For our linear regression model, we have one weight matrix and one bias matrix."
   ]
  },
  {
   "cell_type": "code",
   "execution_count": 15,
   "id": "419d08e0",
   "metadata": {},
   "outputs": [
    {
     "data": {
      "text/plain": [
       "[Parameter containing:\n",
       " tensor([[-0.2630, -0.2974,  0.2388],\n",
       "         [ 0.1564, -0.4856, -0.3175]], requires_grad=True),\n",
       " Parameter containing:\n",
       " tensor([ 0.3226, -0.2910], requires_grad=True)]"
      ]
     },
     "execution_count": 15,
     "metadata": {},
     "output_type": "execute_result"
    }
   ],
   "source": [
    "# Parameters\n",
    "list(model.parameters())  #model.param returns a generator"
   ]
  },
  {
   "cell_type": "code",
   "execution_count": 16,
   "id": "f6328a4b",
   "metadata": {},
   "outputs": [
    {
     "name": "stdout",
     "output_type": "stream",
     "text": [
      "8\n"
     ]
    }
   ],
   "source": [
    "#we can print the complexity by the number of parameters\n",
    "print(sum(p.numel() for p in model.parameters() if p.requires_grad))"
   ]
  },
  {
   "cell_type": "markdown",
   "id": "a3d61c0c",
   "metadata": {},
   "source": [
    "We can use the **model(tensor)** API to perform a forward-pass that generate predictions."
   ]
  },
  {
   "cell_type": "code",
   "execution_count": 17,
   "id": "8d256a38",
   "metadata": {},
   "outputs": [
    {
     "data": {
      "text/plain": [
       "tensor([[-28.5326, -35.0622],\n",
       "        [-34.4970, -49.1121],\n",
       "        [-48.5566, -70.1722],\n",
       "        [-30.4556, -16.9661],\n",
       "        [-29.6572, -58.3431],\n",
       "        [-28.5326, -35.0622],\n",
       "        [-34.4970, -49.1121],\n",
       "        [-48.5566, -70.1722],\n",
       "        [-30.4556, -16.9661],\n",
       "        [-29.6572, -58.3431],\n",
       "        [-28.5326, -35.0622],\n",
       "        [-34.4970, -49.1121],\n",
       "        [-48.5566, -70.1722],\n",
       "        [-30.4556, -16.9661],\n",
       "        [-29.6572, -58.3431]], grad_fn=<AddmmBackward0>)"
      ]
     },
     "execution_count": 17,
     "metadata": {},
     "output_type": "execute_result"
    }
   ],
   "source": [
    "# Generate predictions\n",
    "preds = model(inputs)\n",
    "preds"
   ]
  },
  {
   "cell_type": "markdown",
   "id": "65cc7993",
   "metadata": {},
   "source": [
    "#### **4. Define Loss Function**\n",
    "\n",
    "The **nn** module contains a lot of useful loss function like this:"
   ]
  },
  {
   "cell_type": "code",
   "execution_count": 18,
   "id": "dd1c7201",
   "metadata": {},
   "outputs": [],
   "source": [
    "criterion_mse = nn.MSELoss()\n",
    "criterion_softmax_cross_entropy_loss = nn.CrossEntropyLoss()"
   ]
  },
  {
   "cell_type": "code",
   "execution_count": 19,
   "id": "650a08ea",
   "metadata": {},
   "outputs": [
    {
     "name": "stdout",
     "output_type": "stream",
     "text": [
      "tensor(17812.3652, grad_fn=<MseLossBackward0>)\n",
      "17812.365234375\n"
     ]
    }
   ],
   "source": [
    "mse = criterion_mse(preds, targets)\n",
    "print(mse)\n",
    "print(mse.item())  ##print out the loss number"
   ]
  },
  {
   "cell_type": "markdown",
   "id": "15ee43f3",
   "metadata": {},
   "source": [
    "#### **5. Define the Optimizer**\n",
    "\n",
    "We use **optim.SGD** to perform stochastic gradient descent where samples are selected in batches (often with random shuffling) instead of as a single group. Note that **model.parameters()** is passed as an argument to **optim.SGD.**"
   ]
  },
  {
   "cell_type": "code",
   "execution_count": 20,
   "id": "f8f16c53",
   "metadata": {},
   "outputs": [],
   "source": [
    "# Define optimizer\n",
    "#momentum update the weight based on past gradients also, which will be useful for getting out of local max/min\n",
    "#If our momentum parameter was $0.9$, we would get our current grad + the multiplication of the gradient \n",
    "#from one time step ago by $0.9$, the one from two time steps ago by $0.9^2 = 0.81$, etc.\n",
    "\n",
    "opt = torch.optim.SGD(model.parameters(), lr=0.0001, momentum=0.9)"
   ]
  },
  {
   "cell_type": "markdown",
   "id": "43ae8956",
   "metadata": {},
   "source": [
    "#### **6. Training - Putting Everything Together**"
   ]
  },
  {
   "cell_type": "code",
   "execution_count": 21,
   "id": "8dc1ba4f",
   "metadata": {},
   "outputs": [],
   "source": [
    "# Utility function to train the model\n",
    "def fit(num_epochs, model, loss_fn, opt, train_dl):\n",
    "    \n",
    "    # Repeat for given number of epochs\n",
    "    for epoch in range(num_epochs):\n",
    "        \n",
    "        # Train with batches of data\n",
    "        for xb,yb in train_dl:\n",
    "            \n",
    "            xb.to(device) #move them to gpu if possible, if not, it will be cpu\n",
    "            yb.to(device)\n",
    "                    \n",
    "            # 1. Predict\n",
    "            pred = model(xb)\n",
    "                      \n",
    "            # 2. Calculate loss\n",
    "            loss = loss_fn(pred, yb)\n",
    "            \n",
    "            # 3. Calculate gradient\n",
    "            opt.zero_grad()  #if not, the gradients will accumulate\n",
    "            loss.backward()\n",
    "            \n",
    "            # Print out the gradients.\n",
    "            # print ('dL/dw: ', model.weight.grad) \n",
    "            # print ('dL/db: ', model.bias.grad)\n",
    "            \n",
    "            # 4. Update parameters using gradients\n",
    "            opt.step()\n",
    "            \n",
    "        # Print the progress\n",
    "        if (epoch+1) % 10 == 0:\n",
    "            sys.stdout.write(\"\\rEpoch [{}/{}], Loss: {:.4f}\".format(epoch+1, num_epochs, loss.item()))\n"
   ]
  },
  {
   "cell_type": "code",
   "execution_count": 22,
   "id": "737b8890",
   "metadata": {},
   "outputs": [
    {
     "name": "stdout",
     "output_type": "stream",
     "text": [
      "Epoch [100/100], Loss: 3.4782569"
     ]
    }
   ],
   "source": [
    "#train for 100 epochs\n",
    "fit(100, model, criterion_mse, opt, train_dl)"
   ]
  },
  {
   "cell_type": "code",
   "execution_count": 23,
   "id": "f4a00c8f",
   "metadata": {},
   "outputs": [
    {
     "name": "stdout",
     "output_type": "stream",
     "text": [
      "16.37427520751953\n"
     ]
    }
   ],
   "source": [
    "# Generate predictions\n",
    "preds = model(inputs)\n",
    "loss = criterion_mse(preds, targets)\n",
    "print(loss.item())"
   ]
  }
 ],
 "metadata": {
  "kernelspec": {
   "display_name": "Python (myenv)",
   "language": "python",
   "name": "myenv"
  },
  "language_info": {
   "codemirror_mode": {
    "name": "ipython",
    "version": 3
   },
   "file_extension": ".py",
   "mimetype": "text/x-python",
   "name": "python",
   "nbconvert_exporter": "python",
   "pygments_lexer": "ipython3",
   "version": "3.10.14"
  }
 },
 "nbformat": 4,
 "nbformat_minor": 5
}
