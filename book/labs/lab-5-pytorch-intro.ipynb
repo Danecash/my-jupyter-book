{
 "cells": [
  {
   "cell_type": "markdown",
   "id": "0b1aa404-150a-48f1-897f-d1c2bd959444",
   "metadata": {},
   "source": [
    "# Laboratory Task 5\n",
    "\n",
    "$name:$ Dane Casey C. Casino\n",
    "\n",
    "$Section:$ DS4A"
   ]
  },
  {
   "cell_type": "code",
   "execution_count": 1,
   "id": "f666c328-9ede-4728-9cf9-01ff5d3daa59",
   "metadata": {},
   "outputs": [],
   "source": [
    "# 1. Perform Standard Imports\n",
    "import torch\n",
    "import numpy as np\n",
    "import sys"
   ]
  },
  {
   "cell_type": "code",
   "execution_count": 2,
   "id": "e4d7d02b-f7ba-40bb-b3e7-7702929ee80d",
   "metadata": {},
   "outputs": [],
   "source": [
    "# 2. Create a function called set_seed() that accepts seed: int as a parameter, \n",
    "# this function must return nothing but just set the seed to a certain value.\n",
    "def set_seed(seed: int):\n",
    "    np.random.seed(seed)\n",
    "    torch.manual_seed(seed)"
   ]
  },
  {
   "cell_type": "code",
   "execution_count": 3,
   "id": "82e0b3bd-024b-4c18-854b-7f7a9450aaea",
   "metadata": {},
   "outputs": [
    {
     "name": "stdout",
     "output_type": "stream",
     "text": [
      "Numpy array: [3 4 2 4 4 1]\n"
     ]
    }
   ],
   "source": [
    "# 3. Create a NumPy array called \"arr\" that contains 6 random integers between 0 (inclusive) \n",
    "# and 5 (exclusive), call the set_seed() function and use 42 as the seed parameter.\n",
    "set_seed(42)\n",
    "arr = np.random.randint(0, 5, size=6)\n",
    "print(\"Numpy array:\", arr)"
   ]
  },
  {
   "cell_type": "code",
   "execution_count": 4,
   "id": "b6316a86-8e13-476b-9d22-02b8794877b1",
   "metadata": {},
   "outputs": [
    {
     "data": {
      "text/plain": [
       "tensor([3, 4, 2, 4, 4, 1], dtype=torch.int32)"
      ]
     },
     "execution_count": 4,
     "metadata": {},
     "output_type": "execute_result"
    }
   ],
   "source": [
    "# 4. Create a tensor \"x\" from the array above\n",
    "x = torch.from_numpy(arr)\n",
    "x"
   ]
  },
  {
   "cell_type": "code",
   "execution_count": 5,
   "id": "ba1d0c40-2c3b-4561-bf19-37f4f18f83a5",
   "metadata": {},
   "outputs": [
    {
     "name": "stdout",
     "output_type": "stream",
     "text": [
      "Tensor x with dtype int64: tensor([3, 4, 2, 4, 4, 1])\n"
     ]
    }
   ],
   "source": [
    "# 5. Change the dtype of x from int32 to int64\n",
    "x = x.to(torch.int64)\n",
    "print(\"Tensor x with dtype int64:\", x)"
   ]
  },
  {
   "cell_type": "code",
   "execution_count": 6,
   "id": "efb2a644-e47c-474e-ae7b-4723696e5f65",
   "metadata": {},
   "outputs": [
    {
     "name": "stdout",
     "output_type": "stream",
     "text": [
      "Reshaped tensor x: tensor([[3, 4],\n",
      "        [2, 4],\n",
      "        [4, 1]])\n"
     ]
    }
   ],
   "source": [
    "# 6. Reshape x into a 3x2 tensor\n",
    "x = x.view(3, 2)\n",
    "print(\"Reshaped tensor x:\", x)"
   ]
  },
  {
   "cell_type": "code",
   "execution_count": 7,
   "id": "b3e75188-3d38-4022-9375-f07dc443255e",
   "metadata": {},
   "outputs": [
    {
     "name": "stdout",
     "output_type": "stream",
     "text": [
      "Right hand column of x: tensor([4, 4, 1])\n"
     ]
    }
   ],
   "source": [
    "# 7. Return the right-hand column of tensor x\n",
    "right_column = x[:, 1]\n",
    "print(\"Right hand column of x:\", right_column)"
   ]
  },
  {
   "cell_type": "code",
   "execution_count": 8,
   "id": "02b0fa04-5a15-4810-b2b6-53164b54eddd",
   "metadata": {},
   "outputs": [
    {
     "name": "stdout",
     "output_type": "stream",
     "text": [
      "Tensor x squared: tensor([[ 9, 16],\n",
      "        [ 4, 16],\n",
      "        [16,  1]])\n"
     ]
    }
   ],
   "source": [
    "# 8. Without changing x, return a tensor of square values of x\n",
    "x_sqaured = x.pow(2)\n",
    "print(\"Tensor x squared:\", x_sqaured)"
   ]
  },
  {
   "cell_type": "code",
   "execution_count": 9,
   "id": "666b9657-5dd1-4fab-a281-e96cad758bfa",
   "metadata": {},
   "outputs": [
    {
     "name": "stdout",
     "output_type": "stream",
     "text": [
      "Tensor y: tensor([[2, 2, 1],\n",
      "        [4, 1, 0]])\n"
     ]
    }
   ],
   "source": [
    "# 9. Create a tensor y with the same number of elements as x, that can be matrix-multiplied with x\n",
    "set_seed (42)\n",
    "y = torch.randint(0, 5, size=(2, 3))\n",
    "print(\"Tensor y:\", y)"
   ]
  },
  {
   "cell_type": "code",
   "execution_count": 10,
   "id": "fe822867-55e1-4556-a3b7-aae4cd198a69",
   "metadata": {},
   "outputs": [
    {
     "name": "stdout",
     "output_type": "stream",
     "text": [
      "Matrix product of x and y: tensor([[22, 10,  3],\n",
      "        [20,  8,  2],\n",
      "        [12,  9,  4]])\n"
     ]
    }
   ],
   "source": [
    "# 10. Find the matrix product of x and y.\n",
    "product = torch.matmul(x, y)\n",
    "print(\"Matrix product of x and y:\", product)"
   ]
  },
  {
   "cell_type": "code",
   "execution_count": null,
   "id": "47a0d550-cf81-4e5e-8253-b1bc484e0a03",
   "metadata": {},
   "outputs": [],
   "source": []
  }
 ],
 "metadata": {
  "kernelspec": {
   "display_name": "Python (myenv)",
   "language": "python",
   "name": "myenv"
  },
  "language_info": {
   "codemirror_mode": {
    "name": "ipython",
    "version": 3
   },
   "file_extension": ".py",
   "mimetype": "text/x-python",
   "name": "python",
   "nbconvert_exporter": "python",
   "pygments_lexer": "ipython3",
   "version": "3.10.14"
  }
 },
 "nbformat": 4,
 "nbformat_minor": 5
}
